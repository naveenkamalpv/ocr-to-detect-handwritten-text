{
  "nbformat": 4,
  "nbformat_minor": 0,
  "metadata": {
    "colab": {
      "name": " project : character testing2",
      "provenance": [],
      "collapsed_sections": [],
      "toc_visible": true
    },
    "kernelspec": {
      "name": "python3",
      "display_name": "Python 3"
    },
    "accelerator": "GPU"
  },
  "cells": [
    {
      "cell_type": "code",
      "metadata": {
        "id": "PAGyZf_TBOKi",
        "colab_type": "code",
        "colab": {}
      },
      "source": [
        ""
      ],
      "execution_count": 0,
      "outputs": []
    },
    {
      "cell_type": "code",
      "metadata": {
        "id": "7uS97kkfBhDa",
        "colab_type": "code",
        "colab": {}
      },
      "source": [
        "# Run this cell to mount your Google Drive.\n",
        "from google.colab import drive\n",
        "drive.mount('/content/drive')"
      ],
      "execution_count": 0,
      "outputs": []
    },
    {
      "cell_type": "code",
      "metadata": {
        "id": "haG8Cfn4Bho4",
        "colab_type": "code",
        "outputId": "ccf73d71-1971-4c2f-8ba6-0c13e7660ce5",
        "colab": {
          "base_uri": "https://localhost:8080/",
          "height": 54
        }
      },
      "source": [
        "!unzip '/content/drive/My Drive/ML PROJECT/A_Z Handwritten Data.zip'"
      ],
      "execution_count": 0,
      "outputs": [
        {
          "output_type": "stream",
          "text": [
            "Archive:  /content/drive/My Drive/ML PROJECT/A_Z Handwritten Data.zip\n",
            "  inflating: A_Z Handwritten Data.csv  \n"
          ],
          "name": "stdout"
        }
      ]
    },
    {
      "cell_type": "markdown",
      "metadata": {
        "id": "_bD7R8eWL0xk",
        "colab_type": "text"
      },
      "source": [
        "# .CSV TO IMAGE "
      ]
    },
    {
      "cell_type": "markdown",
      "metadata": {
        "id": "yeDoQm3tMFCh",
        "colab_type": "text"
      },
      "source": [
        "#CNN"
      ]
    },
    {
      "cell_type": "code",
      "metadata": {
        "id": "dl9hBzh22irV",
        "colab_type": "code",
        "colab": {}
      },
      "source": [
        "from keras.models import Sequential\n",
        "from keras.layers import Conv2D\n",
        "from keras.layers import MaxPooling2D\n",
        "from keras.layers import Flatten\n",
        "from keras.layers import Dense\n",
        "from keras.layers import Dense, Dropout, Flatten\n"
      ],
      "execution_count": 0,
      "outputs": []
    },
    {
      "cell_type": "code",
      "metadata": {
        "id": "8G_BDx3dMzZK",
        "colab_type": "code",
        "colab": {}
      },
      "source": [
        "classifier = Sequential()"
      ],
      "execution_count": 0,
      "outputs": []
    },
    {
      "cell_type": "code",
      "metadata": {
        "id": "0lg2sQP3M3q_",
        "colab_type": "code",
        "colab": {}
      },
      "source": [
        "classifier.add(Conv2D(64, (3, 3), input_shape = (28, 28, 1), activation = 'relu'))\n",
        "classifier.add(MaxPooling2D(pool_size = (2, 2)))\n"
      ],
      "execution_count": 0,
      "outputs": []
    },
    {
      "cell_type": "code",
      "metadata": {
        "id": "80vyyW7vNCfd",
        "colab_type": "code",
        "colab": {}
      },
      "source": [
        "classifier.add(Conv2D(32, (3, 3), activation = 'relu'))\n",
        "classifier.add(MaxPooling2D(pool_size = (2, 2)))"
      ],
      "execution_count": 0,
      "outputs": []
    },
    {
      "cell_type": "code",
      "metadata": {
        "id": "m2ULkufzNHpJ",
        "colab_type": "code",
        "colab": {}
      },
      "source": [
        "classifier.add(Flatten())\n",
        "classifier.add(Dense(units = 128, activation = 'relu'))\n",
        "classifier.add(Dense(units = 26, activation = 'sigmoid'))"
      ],
      "execution_count": 0,
      "outputs": []
    },
    {
      "cell_type": "code",
      "metadata": {
        "id": "PiSXr57uNNqP",
        "colab_type": "code",
        "colab": {}
      },
      "source": [
        "classifier.compile(loss='categorical_crossentropy',optimizer='Adam',metrics=['accuracy'])"
      ],
      "execution_count": 0,
      "outputs": []
    },
    {
      "cell_type": "markdown",
      "metadata": {
        "id": "Npn26451NXeO",
        "colab_type": "text"
      },
      "source": [
        "#Appending images of dataset to numpy array "
      ]
    },
    {
      "cell_type": "code",
      "metadata": {
        "id": "gRPfRlUrNSGE",
        "colab_type": "code",
        "outputId": "8729f787-8b7d-4c89-fa5e-093e53c909c5",
        "colab": {
          "base_uri": "https://localhost:8080/",
          "height": 71
        }
      },
      "source": [
        "#Saving Images from the dataset folder\n",
        "import os\n",
        "fixed_size = tuple((28, 28))\n",
        "train_path='/content/drive/My Drive/ML PROJECT/A-Z dataset'\n",
        "test_size = 0.20\n",
        "seed = 9\n",
        "train_labels = os.listdir(train_path)\n",
        "train_labels.sort()\n",
        "import numpy as np\n",
        "from keras.preprocessing import image\n",
        "global_features = []\n",
        "labels = []\n",
        "\n",
        "i, j = 0, 0\n",
        "k = 0\n",
        "train_image=[]\n",
        "for training_name in train_labels:\n",
        "    # join the training data path and each species training folder\n",
        "    dir = os.path.join(train_path, training_name)\n",
        "\n",
        "    # get the current training label\n",
        "    current_label = training_name\n",
        "\n",
        "    k = 1\n",
        "    # loop over the images in each sub-folder\n",
        "    for x in os.listdir(dir):\n",
        "        file = dir + \"/\"  + str(x) \n",
        "        img = image.load_img(file, target_size=(28,28,1), grayscale=True)\n",
        "        img = image.img_to_array(img)\n",
        "        img = img/255\n",
        "        train_image.append(img)\n",
        "        labels.append(current_label)\n",
        "        i += 1\n",
        "        k += 1\n",
        "    print (\"Processed Folder : {}\".format(current_label))\n",
        "    j += 1\n",
        "global_features=np.array(train_image)\n"
      ],
      "execution_count": 0,
      "outputs": [
        {
          "output_type": "stream",
          "text": [
            "/usr/local/lib/python3.6/dist-packages/keras_preprocessing/image/utils.py:104: UserWarning: grayscale is deprecated. Please use color_mode = \"grayscale\"\n",
            "  warnings.warn('grayscale is deprecated. Please use '\n"
          ],
          "name": "stderr"
        }
      ]
    },
    {
      "cell_type": "markdown",
      "metadata": {
        "id": "drxYlBYzSljX",
        "colab_type": "text"
      },
      "source": [
        "#Appling encoder on alphabet"
      ]
    },
    {
      "cell_type": "code",
      "metadata": {
        "id": "j_Eno6nRN75S",
        "colab_type": "code",
        "outputId": "d2780a8d-d989-4162-c4ec-b4a50069623e",
        "colab": {
          "base_uri": "https://localhost:8080/",
          "height": 165
        }
      },
      "source": [
        "from sklearn.preprocessing import LabelEncoder,OneHotEncoder\n",
        "import h5py\n",
        "from sklearn.preprocessing import MinMaxScaler\n",
        "\n",
        "\n",
        "targetNames = np.unique(labels)\n",
        "le = LabelEncoder()\n",
        "target = le.fit_transform(labels)\n",
        "target=target.reshape(-1,1)\n",
        "print(target.shape)\n",
        "onehotencoder = OneHotEncoder(categorical_features = [0])\n",
        "ylabel = onehotencoder.fit_transform(target).toarray()\n",
        "target=ylabel\n",
        "global_labels=target\n"
      ],
      "execution_count": 0,
      "outputs": [
        {
          "output_type": "stream",
          "text": [
            "(372451, 1)\n"
          ],
          "name": "stdout"
        },
        {
          "output_type": "stream",
          "text": [
            "/usr/local/lib/python3.6/dist-packages/sklearn/preprocessing/_encoders.py:415: FutureWarning: The handling of integer data will change in version 0.22. Currently, the categories are determined based on the range [0, max(values)], while in the future they will be determined based on the unique values.\n",
            "If you want the future behaviour and silence this warning, you can specify \"categories='auto'\".\n",
            "In case you used a LabelEncoder before this OneHotEncoder to convert the categories to integers, then you can now use the OneHotEncoder directly.\n",
            "  warnings.warn(msg, FutureWarning)\n",
            "/usr/local/lib/python3.6/dist-packages/sklearn/preprocessing/_encoders.py:451: DeprecationWarning: The 'categorical_features' keyword is deprecated in version 0.20 and will be removed in 0.22. You can use the ColumnTransformer instead.\n",
            "  \"use the ColumnTransformer instead.\", DeprecationWarning)\n"
          ],
          "name": "stderr"
        }
      ]
    },
    {
      "cell_type": "markdown",
      "metadata": {
        "id": "yFxzZaR6TAVn",
        "colab_type": "text"
      },
      "source": [
        "#Splitting Data Into Training Set and Test Set"
      ]
    },
    {
      "cell_type": "code",
      "metadata": {
        "id": "vaJvKfUOSyUp",
        "colab_type": "code",
        "colab": {}
      },
      "source": [
        "\n",
        "from sklearn.model_selection import train_test_split, cross_val_score\n",
        "(train_Data, test_Data, train_Label, test_Label) = train_test_split(np.array(global_features),\n",
        "                                                                                          np.array(global_labels),\n",
        "                                                                                          test_size=test_size,\n",
        "                                                                                          random_state=seed)\n",
        "\n",
        "\n",
        "\n"
      ],
      "execution_count": 0,
      "outputs": []
    },
    {
      "cell_type": "code",
      "metadata": {
        "id": "M2ejfFuXTR4a",
        "colab_type": "code",
        "outputId": "df57ed5c-a7ab-4b2b-d9af-64a942becb57",
        "colab": {
          "base_uri": "https://localhost:8080/",
          "height": 54
        }
      },
      "source": [
        "from keras.preprocessing.image import ImageDataGenerator\n",
        "\n",
        "train_datagen = ImageDataGenerator(\n",
        "        rescale=1./255,\n",
        "        shear_range=0.2,\n",
        "        zoom_range=0.2,\n",
        "        horizontal_flip=True)\n",
        "\n",
        "test_datagen = ImageDataGenerator(rescale=1./255)\n",
        "\n",
        "train_generator = train_datagen.flow_from_directory(\n",
        "        '/content/drive/My Drive/ML PROJECT/A-Z dataset',\n",
        "        target_size=(28, 28),\n",
        "        batch_size=32,\n",
        "    color_mode='grayscale',\n",
        "        class_mode='categorical')\n",
        "\n",
        "validation_generator = test_datagen.flow_from_directory(\n",
        "        '/content/drive/My Drive/ML PROJECT/A-Z testset',\n",
        "        target_size=(28, 28),\n",
        "        batch_size=32,\n",
        "    color_mode='grayscale',\n",
        "        class_mode='categorical')"
      ],
      "execution_count": 0,
      "outputs": [
        {
          "output_type": "stream",
          "text": [
            "Found 372451 images belonging to 26 classes.\n",
            "Found 2574 images belonging to 26 classes.\n"
          ],
          "name": "stdout"
        }
      ]
    },
    {
      "cell_type": "code",
      "metadata": {
        "id": "mZKEtDwsUu17",
        "colab_type": "code",
        "outputId": "5bde4cd6-8c42-4f7b-c1e1-d96504c99027",
        "colab": {
          "base_uri": "https://localhost:8080/",
          "height": 201
        }
      },
      "source": [
        "history=classifier.fit(train_Data, train_Label, epochs=2)"
      ],
      "execution_count": 0,
      "outputs": [
        {
          "output_type": "stream",
          "text": [
            "W0705 22:54:47.048126 140457977395072 deprecation.py:323] From /usr/local/lib/python3.6/dist-packages/tensorflow/python/ops/math_grad.py:1250: add_dispatch_support.<locals>.wrapper (from tensorflow.python.ops.array_ops) is deprecated and will be removed in a future version.\n",
            "Instructions for updating:\n",
            "Use tf.where in 2.0, which has the same broadcast rule as np.where\n",
            "W0705 22:54:47.108133 140457977395072 deprecation_wrapper.py:119] From /usr/local/lib/python3.6/dist-packages/keras/backend/tensorflow_backend.py:986: The name tf.assign_add is deprecated. Please use tf.compat.v1.assign_add instead.\n",
            "\n"
          ],
          "name": "stderr"
        },
        {
          "output_type": "stream",
          "text": [
            "Epoch 1/2\n",
            "297960/297960 [==============================] - 47s 158us/step - loss: 0.1667 - acc: 0.9510\n",
            "Epoch 2/2\n",
            "297960/297960 [==============================] - 40s 135us/step - loss: 0.0620 - acc: 0.9828\n"
          ],
          "name": "stdout"
        }
      ]
    },
    {
      "cell_type": "code",
      "metadata": {
        "id": "3UCA_9S0Wk_A",
        "colab_type": "code",
        "outputId": "101432e0-63c7-4174-c733-92ae00a16af2",
        "colab": {
          "base_uri": "https://localhost:8080/",
          "height": 219
        }
      },
      "source": [
        "\n",
        "history=classifier.fit_generator(\n",
        "        train_generator,\n",
        "        steps_per_epoch=1000,\n",
        "        epochs=5,\n",
        "        validation_data=validation_generator,\n",
        "        validation_steps=80)\n",
        "\n"
      ],
      "execution_count": 0,
      "outputs": [
        {
          "output_type": "stream",
          "text": [
            "Epoch 1/5\n",
            "1000/1000 [==============================] - 163s 163ms/step - loss: 0.9782 - acc: 0.6964 - val_loss: 0.7591 - val_acc: 0.7984\n",
            "Epoch 2/5\n",
            "1000/1000 [==============================] - 150s 150ms/step - loss: 0.3578 - acc: 0.8960 - val_loss: 0.5570 - val_acc: 0.8529\n",
            "Epoch 3/5\n",
            "1000/1000 [==============================] - 150s 150ms/step - loss: 0.2792 - acc: 0.9183 - val_loss: 0.5491 - val_acc: 0.8647\n",
            "Epoch 4/5\n",
            "1000/1000 [==============================] - 151s 151ms/step - loss: 0.2319 - acc: 0.9344 - val_loss: 0.5057 - val_acc: 0.8639\n",
            "Epoch 5/5\n",
            "1000/1000 [==============================] - 150s 150ms/step - loss: 0.2099 - acc: 0.9376 - val_loss: 0.4260 - val_acc: 0.8938\n"
          ],
          "name": "stdout"
        }
      ]
    },
    {
      "cell_type": "code",
      "metadata": {
        "id": "aWK2D5D1y3nd",
        "colab_type": "code",
        "colab": {}
      },
      "source": [
        "import csv\n",
        "from PIL import Image\n",
        "import numpy as np\n",
        "import string\n",
        "from PIL import Image\n",
        "import PIL.ImageOps \n",
        "import os\n",
        "from skimage import io\n",
        "from keras.preprocessing import image\n",
        "import matplotlib.pyplot as plt"
      ],
      "execution_count": 0,
      "outputs": []
    },
    {
      "cell_type": "code",
      "metadata": {
        "id": "w8XxJOrMYAVu",
        "colab_type": "code",
        "colab": {}
      },
      "source": [
        "import shutil\n",
        "\n",
        "def Extract(fontName,istest):\n",
        "  linecntr=lettercntr=0\n",
        "  ext=\".png\"\n",
        "  if(istest==1):\n",
        "    ext=os.path.splitext(os.path.basename(fontName))[1]\n",
        "    fontName=os.path.splitext(os.path.basename(fontName))[0]\n",
        "  os.chdir('/content/drive/My Drive/ML PROJECT')\n",
        "  if(istest==0):\n",
        "    if os.path.exists(\"dataset/\"+fontName):\n",
        "      shutil.rmtree(\"dataset/\"+fontName)\n",
        "    os.makedirs(\"dataset/\"+fontName)   \n",
        "    \n",
        "  if(istest==1):\n",
        "    if os.path.exists(\"testset_chars\"):\n",
        "      shutil.rmtree(\"testset_chars\")\n",
        "    os.makedirs(\"testset_chars\")       \n",
        "  #img_times = io.imread('TimesNewRoman.PNG', as_gray=True)\n",
        "  if(istest==0):\n",
        "    img_times = io.imread(fontName+ext, as_gray=True)\n",
        "  else:\n",
        "    img_times = io.imread(\"testinput/\"+fontName+ext, as_gray=True)\n",
        "    \n",
        "  start_i=[]\n",
        "  prev_i=1\n",
        "  \n",
        "  for i in range(img_times.shape[0]):\n",
        "    u = np.unique(img_times[i]) \n",
        "    if(len(u)>1):\n",
        "      if(prev_i==1):\n",
        "        start_i.append([i,i+1])\n",
        "        prev_i=0\n",
        "      start_i[-1][1]=i\n",
        "    else:\n",
        "      if(len(u)==1):\n",
        "        prev_i=1\n",
        "\n",
        "  cntr=0\n",
        "\n",
        "  sentenses=[]\n",
        "  for i in start_i:    \n",
        "    cropped = img_times[i[0]:i[1],:img_times.shape[1]]\n",
        "    io.imsave(\"temp/\"+fontName+\"_\"+str(i[0])+\".png\",cropped)\n",
        "    sentenses.append(cropped)\n",
        "    plt.imshow(cropped)\n",
        "    plt.show()\n",
        "\n",
        "  \n",
        "  start_j=[]\n",
        "  prev_i=1\n",
        "  cntr=-1\n",
        "\n",
        "\n",
        "  for lines in sentenses:\n",
        "    #plt.imshow(lines)\n",
        "    #plt.show()\n",
        "    linecntr+=1\n",
        "    whitecntr=0\n",
        "    cntr+=1\n",
        "    out_arr = np.asarray(lines)\n",
        "    for j in range(lines.shape[1]):\n",
        "      slices=out_arr[:,j]\n",
        "      u = np.unique(slices)\n",
        "      #print(u)\n",
        "      if(len(u)>1):\n",
        "        if(prev_i==1):\n",
        "          start_j.append([cntr,j,j+1])       \n",
        "          prev_i=0\n",
        "\n",
        "        if(start_j[-1][2]<j):        \n",
        "          start_j[-1][2]=j\n",
        "      else:\n",
        "        if(len(u)==1):\n",
        "          prev_i=1\n",
        "  i=0;\n",
        "  \n",
        "  i=0\n",
        "  prevline=0\n",
        "  \n",
        "  for chrtr in start_j:\n",
        "    if(prevline!=chrtr[0]):\n",
        "      i=0\n",
        "      prevline=chrtr[0]\n",
        "    cropped=sentenses[chrtr[0]][:,chrtr[1]-2:chrtr[2]+2]\n",
        "    #plt.imshow(cropped)\n",
        "    #plt.show()  \n",
        "    lettercntr+=1\n",
        "    if(istest==0):\n",
        "      io.imsave(\"dataset/\"+fontName+\"/\"+str(chrtr[0])+\"_\"+str(i)+\".png\",cropped)\n",
        "    else:\n",
        "      io.imsave(\"testset_chars/\"+fontName+\"_\"+str(chrtr[0])+\"_\"+str(i)+\".png\",cropped)\n",
        "    #sentenses.append(cropped)\n",
        "    i+=1\n",
        "  return (linecntr,lettercntr)\n",
        "   "
      ],
      "execution_count": 0,
      "outputs": []
    },
    {
      "cell_type": "code",
      "metadata": {
        "id": "WwIZui7ux4HA",
        "colab_type": "code",
        "outputId": "ff5edf8a-af35-4e81-c1d7-d72909086806",
        "colab": {
          "base_uri": "https://localhost:8080/",
          "height": 523
        }
      },
      "source": [
        "str_file=input(\"Enter File Name:\")\n",
        "(line,letters)=Extract(str_file,1)\n",
        "print(\"Lines :\",line,\"   Letters :\",letters)\n"
      ],
      "execution_count": 0,
      "outputs": [
        {
          "output_type": "stream",
          "text": [
            "Enter File Name:testa.png\n"
          ],
          "name": "stdout"
        },
        {
          "output_type": "stream",
          "text": [
            "W0706 01:12:40.337450 140457977395072 util.py:61] Lossy conversion from float64 to uint8. Range [0, 1]. Convert image to uint8 prior to saving to suppress this warning.\n"
          ],
          "name": "stderr"
        },
        {
          "output_type": "display_data",
          "data": {
            "image/png": "[encoded data removed]",
            "text/plain": [
              "<Figure size 432x288 with 1 Axes>"
            ]
          },
          "metadata": {
            "tags": []
          }
        },
        {
          "output_type": "stream",
          "text": [
            "W0706 01:12:40.465906 140457977395072 util.py:61] Lossy conversion from float64 to uint8. Range [0, 1]. Convert image to uint8 prior to saving to suppress this warning.\n"
          ],
          "name": "stderr"
        },
        {
          "output_type": "display_data",
          "data": {
            "image/png": "[encoded data removed]",
            "text/plain": [
              "<Figure size 432x288 with 1 Axes>"
            ]
          },
          "metadata": {
            "tags": []
          }
        },
        {
          "output_type": "stream",
          "text": [
            "W0706 01:12:40.595592 140457977395072 util.py:61] Lossy conversion from float64 to uint8. Range [0, 1]. Convert image to uint8 prior to saving to suppress this warning.\n",
            "W0706 01:12:40.600831 140457977395072 util.py:61] Lossy conversion from float64 to uint8. Range [0, 1]. Convert image to uint8 prior to saving to suppress this warning.\n",
            "W0706 01:12:40.605928 140457977395072 util.py:61] Lossy conversion from float64 to uint8. Range [0, 1]. Convert image to uint8 prior to saving to suppress this warning.\n",
            "W0706 01:12:40.614377 140457977395072 util.py:61] Lossy conversion from float64 to uint8. Range [0, 1]. Convert image to uint8 prior to saving to suppress this warning.\n",
            "W0706 01:12:40.619516 140457977395072 util.py:61] Lossy conversion from float64 to uint8. Range [0, 1]. Convert image to uint8 prior to saving to suppress this warning.\n",
            "W0706 01:12:40.628101 140457977395072 util.py:61] Lossy conversion from float64 to uint8. Range [0, 1]. Convert image to uint8 prior to saving to suppress this warning.\n",
            "W0706 01:12:40.635356 140457977395072 util.py:61] Lossy conversion from float64 to uint8. Range [0, 1]. Convert image to uint8 prior to saving to suppress this warning.\n",
            "W0706 01:12:40.641438 140457977395072 util.py:61] Lossy conversion from float64 to uint8. Range [0, 1]. Convert image to uint8 prior to saving to suppress this warning.\n",
            "W0706 01:12:40.647020 140457977395072 util.py:61] Lossy conversion from float64 to uint8. Range [0, 1]. Convert image to uint8 prior to saving to suppress this warning.\n",
            "W0706 01:12:40.652432 140457977395072 util.py:61] Lossy conversion from float64 to uint8. Range [0, 1]. Convert image to uint8 prior to saving to suppress this warning.\n",
            "W0706 01:12:40.657137 140457977395072 util.py:61] Lossy conversion from float64 to uint8. Range [0, 1]. Convert image to uint8 prior to saving to suppress this warning.\n",
            "W0706 01:12:40.662695 140457977395072 util.py:61] Lossy conversion from float64 to uint8. Range [0, 1]. Convert image to uint8 prior to saving to suppress this warning.\n",
            "W0706 01:12:40.668224 140457977395072 util.py:61] Lossy conversion from float64 to uint8. Range [0, 1]. Convert image to uint8 prior to saving to suppress this warning.\n",
            "W0706 01:12:40.673130 140457977395072 util.py:61] Lossy conversion from float64 to uint8. Range [0, 1]. Convert image to uint8 prior to saving to suppress this warning.\n",
            "W0706 01:12:40.677701 140457977395072 util.py:61] Lossy conversion from float64 to uint8. Range [0, 1]. Convert image to uint8 prior to saving to suppress this warning.\n"
          ],
          "name": "stderr"
        },
        {
          "output_type": "stream",
          "text": [
            "Lines : 2    Letters : 15\n"
          ],
          "name": "stdout"
        }
      ]
    },
    {
      "cell_type": "code",
      "metadata": {
        "id": "2z4QPYgpyiao",
        "colab_type": "code",
        "outputId": "5475960a-ca42-4fe5-c434-266db08de9f9",
        "colab": {
          "base_uri": "https://localhost:8080/",
          "height": 1000
        }
      },
      "source": [
        "\n",
        "from keras.preprocessing import image\n",
        "\n",
        "import matplotlib.pyplot as plt\n",
        "import glob\n",
        "import cv2\n",
        "# path to test data\n",
        "#test_path = \"/content/testset/A/\"\n",
        "test_path = \"/content/drive/My Drive/ML PROJECT/testset_chars/\"\n",
        "\n",
        "# loop through the test images\n",
        "\n",
        "txtout=\"\"\n",
        "lcnt=\"0\"\n",
        "for file in os.listdir(test_path):\n",
        "    # read the image\n",
        "    file=test_path+file\n",
        "    img1 = image.load_img(file)\n",
        "    fileparts=file.split('_')\n",
        "    \n",
        "    \n",
        "    img = image.load_img(file, target_size=(28,28,1), grayscale=True)\n",
        "    test_image = image.img_to_array(img)\n",
        "\n",
        "    test_image = test_image/255\n",
        "    test_image = np.expand_dims(test_image, axis = 0)\n",
        "    pred = classifier.predict(test_image)\n",
        "    predicted_class_indices=np.argmax(pred,axis=1)\n",
        "    labels = (train_generator.class_indices)\n",
        "    labels = dict((v,k) for k,v in labels.items())\n",
        "    predictions = [labels[k] for k in predicted_class_indices]\n",
        "\n",
        "    img1=cv2.putText(np.array(img1), predictions[0], (10,30), cv2.FONT_HERSHEY_PLAIN,  2,(0,0,255),2,cv2.LINE_AA)\n",
        "    plt.imshow(img1)\n",
        "    plt.show()\n",
        "    if(len(fileparts)>=2):\n",
        "      if(lcnt!=fileparts[-2]):\n",
        "        print(txtout)\n",
        "        txtout=\"\"\n",
        "        lcnt=fileparts[-2]\n",
        "    txtout=txtout+\" \"+predictions[0]\n",
        "    \n",
        "print(txtout)"
      ],
      "execution_count": 0,
      "outputs": [
        {
          "output_type": "stream",
          "text": [
            "/usr/local/lib/python3.6/dist-packages/keras_preprocessing/image/utils.py:104: UserWarning: grayscale is deprecated. Please use color_mode = \"grayscale\"\n",
            "  warnings.warn('grayscale is deprecated. Please use '\n"
          ],
          "name": "stderr"
        },
        {
          "output_type": "display_data",
          "data": {
            "image/png": "[encoded data removed]",
            "text/plain": [
              "<Figure size 432x288 with 1 Axes>"
            ]
          },
          "metadata": {
            "tags": []
          }
        },
        {
          "output_type": "display_data",
          "data": {
            "image/png": "[encoded data removed]",
            "text/plain": [
              "<Figure size 432x288 with 1 Axes>"
            ]
          },
          "metadata": {
            "tags": []
          }
        },
        {
          "output_type": "display_data",
          "data": {
            "image/png": "[encoded data removed]",
            "text/plain": [
              "<Figure size 432x288 with 1 Axes>"
            ]
          },
          "metadata": {
            "tags": []
          }
        },
        {
          "output_type": "display_data",
          "data": {
            "image/png": "[encoded data removed]",
            "text/plain": [
              "<Figure size 432x288 with 1 Axes>"
            ]
          },
          "metadata": {
            "tags": []
          }
        },
        {
          "output_type": "display_data",
          "data": {
            "image/png": "[encoded data removed]",
            "text/plain": [
              "<Figure size 432x288 with 1 Axes>"
            ]
          },
          "metadata": {
            "tags": []
          }
        },
        {
          "output_type": "display_data",
          "data": {
            "image/png": "[encoded data removed]",
            "text/plain": [
              "<Figure size 432x288 with 1 Axes>"
            ]
          },
          "metadata": {
            "tags": []
          }
        },
        {
          "output_type": "display_data",
          "data": {
            "image/png": "[encoded data removed]",
            "text/plain": [
              "<Figure size 432x288 with 1 Axes>"
            ]
          },
          "metadata": {
            "tags": []
          }
        },
        {
          "output_type": "display_data",
          "data": {
            "image/png": "[encoded data removed]",
            "text/plain": [
              "<Figure size 432x288 with 1 Axes>"
            ]
          },
          "metadata": {
            "tags": []
          }
        },
        {
          "output_type": "stream",
          "text": [
            " Y A C H B N F\n"
          ],
          "name": "stdout"
        },
        {
          "output_type": "display_data",
          "data": {
            "image/png": "[encoded data removed]",
            "text/plain": [
              "<Figure size 432x288 with 1 Axes>"
            ]
          },
          "metadata": {
            "tags": []
          }
        },
        {
          "output_type": "display_data",
          "data": {
            "image/png": "[encoded data removed]",
            "text/plain": [
              "<Figure size 432x288 with 1 Axes>"
            ]
          },
          "metadata": {
            "tags": []
          }
        },
        {
          "output_type": "display_data",
          "data": {
            "image/png": "[encoded data removed]",
            "text/plain": [
              "<Figure size 432x288 with 1 Axes>"
            ]
          },
          "metadata": {
            "tags": []
          }
        },
        {
          "output_type": "display_data",
          "data": {
            "image/png": "[encoded data removed]",
            "text/plain": [
              "<Figure size 432x288 with 1 Axes>"
            ]
          },
          "metadata": {
            "tags": []
          }
        },
        {
          "output_type": "display_data",
          "data": {
            "image/png": "[encoded data removed]",
            "text/plain": [
              "<Figure size 432x288 with 1 Axes>"
            ]
          },
          "metadata": {
            "tags": []
          }
        },
        {
          "output_type": "display_data",
          "data": {
            "image/png": "[encoded data removed]",
            "text/plain": [
              "<Figure size 432x288 with 1 Axes>"
            ]
          },
          "metadata": {
            "tags": []
          }
        },
        {
          "output_type": "display_data",
          "data": {
            "image/png": "[encoded data removed]",
            "text/plain": [
              "<Figure size 432x288 with 1 Axes>"
            ]
          },
          "metadata": {
            "tags": []
          }
        },
        {
          "output_type": "stream",
          "text": [
            " L F A R N B N E\n"
          ],
          "name": "stdout"
        }
      ]
    },
    {
      "cell_type": "code",
      "metadata": {
        "id": "s-llBg8m0_eh",
        "colab_type": "code",
        "colab": {}
      },
      "source": [
        ""
      ],
      "execution_count": 0,
      "outputs": []
    }
  ]
}